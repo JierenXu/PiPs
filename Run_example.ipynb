{
 "cells": [
  {
   "cell_type": "code",
   "execution_count": 1,
   "id": "055beeb6",
   "metadata": {},
   "outputs": [
    {
     "name": "stdout",
     "output_type": "stream",
     "text": [
      "WARNING:tensorflow:From /home/ec2-user/anaconda3/envs/tensorflow_p36/gpu_cuda10.0/lib/python3.6/site-packages/tensorflow_core/__init__.py:1473: The name tf.estimator.inputs is deprecated. Please use tf.compat.v1.estimator.inputs instead.\n",
      "\n"
     ]
    }
   ],
   "source": [
    "import logging\n",
    "import numpy as np\n",
    "import tensorflow as tf\n",
    "import os\n",
    "import scipy.io\n",
    "import matplotlib.pyplot as plt\n",
    "from NOPsolver import NOP_Update\n",
    "from config import get_config\n",
    "from init import get_init\n",
    "from utils import del_all_flags\n",
    "\n",
    "os.environ['CUDA_VISIBLE_DEVICES'] = '0'\n",
    "gpu_options = tf.GPUOptions(per_process_gpu_memory_fraction=0.1) \n",
    "\n",
    "\n",
    "del_all_flags(tf.flags.FLAGS)\n",
    "#FLAGS = tf.app.flags.FLAGS\n",
    "flags = tf.compat.v1.flags\n",
    "flags.DEFINE_string('problem_name', 'Trig_ConstantFreq',\n",
    "                           \"\"\"The name of targeted signal.\"\"\")\n",
    "flags.DEFINE_integer('num_run', 1,\n",
    "                            \"\"\"The number of experiments to repeatedly run for the same problem.\"\"\")\n",
    "FLAGS = flags.FLAGS\n",
    "problem_name = FLAGS['problem_name'].value"
   ]
  },
  {
   "cell_type": "code",
   "execution_count": 2,
   "id": "3b40b12a",
   "metadata": {},
   "outputs": [
    {
     "name": "stderr",
     "output_type": "stream",
     "text": [
      "INFO   Signal has 1024 samples, divided into 20 chips each with 102 samples\n",
      "INFO   But we only compute the first chip\n",
      "INFO   Update Pattern:    False\n",
      "INFO   Update Amplitude:  False\n"
     ]
    },
    {
     "name": "stdout",
     "output_type": "stream",
     "text": [
      "[[ 1. 40.]\n",
      " [ 1. 40.]]\n"
     ]
    }
   ],
   "source": [
    "## Mimic a signal of two modes with very similar frequency F1 and F2\n",
    "init_Freq = 40\n",
    "F1 = 39.8  # frequency of first mode --------- to be retrieved\n",
    "F2 = 39.99    # frequency of second mode --------- to be retrieved\n",
    "\n",
    "# generate signal\n",
    "short = 1\n",
    "N = 2**10 //short\n",
    "K = 2\n",
    "time = np.arange(0,1./short,1./(N*short)) # try downsampling\n",
    "\n",
    "true_ins_Freq = np.zeros([2,N])\n",
    "true_ins_Freq[0,:] = np.ones(N) * F1\n",
    "true_ins_Freq[1,:] = np.ones(N) * F2\n",
    "\n",
    "true_ins_Phase = np.zeros([2,N])\n",
    "true_ins_Phase[0,:] = time * F1\n",
    "true_ins_Phase[1,:] = time * F2\n",
    "\n",
    "true_Mode = np.zeros([2,N])\n",
    "true_Mode[0,:] = np.cos(2*np.pi*true_ins_Phase[0,:])\n",
    "true_Mode[1,:] = np.sin(2*np.pi*true_ins_Phase[1,:])\n",
    "\n",
    "true_f = np.sum(true_Mode,axis = 0)\n",
    "\n",
    "# try adding noise\n",
    "var = 0.1\n",
    "noise = np.random.randn(N)*var\n",
    "signal = true_f + var*noise\n",
    "#plt.plot(true_f)\n",
    "#only two periods are used to estimate F1 and F2\n",
    "\n",
    "\n",
    "# initialize algorithm\n",
    "Sig = {}\n",
    "Sig['signal'] = signal # input signal to be estimated\n",
    "Sig['time'] = time\n",
    "Sig['K'] = K # input number of modes\n",
    "Sig['D'] = 1 # input order of phase function\n",
    "\n",
    "logging.basicConfig(level=logging.INFO,format='%(levelname)-6s %(message)s')\n",
    "config = get_config(problem_name,Sig)\n",
    "\n",
    "#init_Freq = 40\n",
    "init = get_init(problem_name,Sig,config,init_Freq)\n",
    "trainer = NOP_Update(Sig,config, init)"
   ]
  },
  {
   "cell_type": "code",
   "execution_count": 3,
   "id": "71eaf606",
   "metadata": {
    "scrolled": true
   },
   "outputs": [
    {
     "name": "stderr",
     "output_type": "stream",
     "text": [
      "INFO   Begin to solve Trig_ConstantFreq with run 1\n"
     ]
    },
    {
     "name": "stdout",
     "output_type": "stream",
     "text": [
      "WARNING:tensorflow:From /home/ec2-user/SageMaker/NOPsolver.py:108: The name tf.reset_default_graph is deprecated. Please use tf.compat.v1.reset_default_graph instead.\n",
      "\n"
     ]
    },
    {
     "name": "stderr",
     "output_type": "stream",
     "text": [
      "WARNING From /home/ec2-user/SageMaker/NOPsolver.py:108: The name tf.reset_default_graph is deprecated. Please use tf.compat.v1.reset_default_graph instead.\n",
      "\n"
     ]
    },
    {
     "name": "stdout",
     "output_type": "stream",
     "text": [
      "WARNING:tensorflow:From /home/ec2-user/SageMaker/NOPsolver.py:109: The name tf.placeholder is deprecated. Please use tf.compat.v1.placeholder instead.\n",
      "\n"
     ]
    },
    {
     "name": "stderr",
     "output_type": "stream",
     "text": [
      "WARNING From /home/ec2-user/SageMaker/NOPsolver.py:109: The name tf.placeholder is deprecated. Please use tf.compat.v1.placeholder instead.\n",
      "\n"
     ]
    },
    {
     "name": "stdout",
     "output_type": "stream",
     "text": [
      "WARNING:tensorflow:From /home/ec2-user/SageMaker/NOPsolver.py:152: The name tf.train.AdamOptimizer is deprecated. Please use tf.compat.v1.train.AdamOptimizer instead.\n",
      "\n"
     ]
    },
    {
     "name": "stderr",
     "output_type": "stream",
     "text": [
      "WARNING From /home/ec2-user/SageMaker/NOPsolver.py:152: The name tf.train.AdamOptimizer is deprecated. Please use tf.compat.v1.train.AdamOptimizer instead.\n",
      "\n"
     ]
    },
    {
     "name": "stdout",
     "output_type": "stream",
     "text": [
      "WARNING:tensorflow:From /home/ec2-user/SageMaker/NOPsolver.py:152: The name tf.trainable_variables is deprecated. Please use tf.compat.v1.trainable_variables instead.\n",
      "\n"
     ]
    },
    {
     "name": "stderr",
     "output_type": "stream",
     "text": [
      "WARNING From /home/ec2-user/SageMaker/NOPsolver.py:152: The name tf.trainable_variables is deprecated. Please use tf.compat.v1.trainable_variables instead.\n",
      "\n"
     ]
    },
    {
     "name": "stdout",
     "output_type": "stream",
     "text": [
      "WARNING:tensorflow:From /home/ec2-user/anaconda3/envs/tensorflow_p36/lib/python3.6/site-packages/horovod/tensorflow/__init__.py:163: The name tf.global_variables is deprecated. Please use tf.compat.v1.global_variables instead.\n",
      "\n"
     ]
    },
    {
     "name": "stderr",
     "output_type": "stream",
     "text": [
      "WARNING From /home/ec2-user/anaconda3/envs/tensorflow_p36/lib/python3.6/site-packages/horovod/tensorflow/__init__.py:163: The name tf.global_variables is deprecated. Please use tf.compat.v1.global_variables instead.\n",
      "\n"
     ]
    },
    {
     "name": "stdout",
     "output_type": "stream",
     "text": [
      "WARNING:tensorflow:From /home/ec2-user/anaconda3/envs/tensorflow_p36/lib/python3.6/site-packages/horovod/tensorflow/__init__.py:189: The name tf.get_default_graph is deprecated. Please use tf.compat.v1.get_default_graph instead.\n",
      "\n"
     ]
    },
    {
     "name": "stderr",
     "output_type": "stream",
     "text": [
      "WARNING From /home/ec2-user/anaconda3/envs/tensorflow_p36/lib/python3.6/site-packages/horovod/tensorflow/__init__.py:189: The name tf.get_default_graph is deprecated. Please use tf.compat.v1.get_default_graph instead.\n",
      "\n"
     ]
    },
    {
     "name": "stdout",
     "output_type": "stream",
     "text": [
      "[2022-01-30 23:43:09.885 ip-172-16-75-235:27707 INFO utils.py:27] RULE_JOB_STOP_SIGNAL_FILENAME: None\n",
      "[2022-01-30 23:43:09.923 ip-172-16-75-235:27707 INFO profiler_config_parser.py:111] Unable to find config at /opt/ml/input/config/profilerconfig.json. Profiler is disabled.\n",
      "WARNING:tensorflow:From /home/ec2-user/SageMaker/NOPsolver.py:158: The name tf.Session is deprecated. Please use tf.compat.v1.Session instead.\n",
      "\n"
     ]
    },
    {
     "name": "stderr",
     "output_type": "stream",
     "text": [
      "WARNING From /home/ec2-user/SageMaker/NOPsolver.py:158: The name tf.Session is deprecated. Please use tf.compat.v1.Session instead.\n",
      "\n"
     ]
    },
    {
     "name": "stdout",
     "output_type": "stream",
     "text": [
      "WARNING:tensorflow:From /home/ec2-user/SageMaker/NOPsolver.py:158: The name tf.ConfigProto is deprecated. Please use tf.compat.v1.ConfigProto instead.\n",
      "\n"
     ]
    },
    {
     "name": "stderr",
     "output_type": "stream",
     "text": [
      "WARNING From /home/ec2-user/SageMaker/NOPsolver.py:158: The name tf.ConfigProto is deprecated. Please use tf.compat.v1.ConfigProto instead.\n",
      "\n"
     ]
    },
    {
     "name": "stdout",
     "output_type": "stream",
     "text": [
      "WARNING:tensorflow:From /home/ec2-user/SageMaker/NOPsolver.py:159: The name tf.global_variables_initializer is deprecated. Please use tf.compat.v1.global_variables_initializer instead.\n",
      "\n"
     ]
    },
    {
     "name": "stderr",
     "output_type": "stream",
     "text": [
      "WARNING From /home/ec2-user/SageMaker/NOPsolver.py:159: The name tf.global_variables_initializer is deprecated. Please use tf.compat.v1.global_variables_initializer instead.\n",
      "\n",
      "INFO   Updating Chip 1 of 1: \n",
      "INFO   step:     0,    loss: 2.8960e-03,  elapsed time   3\n",
      "INFO   step:  1000,    loss: 9.9452e-05,  elapsed time   3\n",
      "INFO   step:  2000,    loss: 9.9454e-05,  elapsed time   3\n",
      "INFO   step:  3000,    loss: 9.9475e-05,  elapsed time   3\n",
      "INFO   step:  4000,    loss: 9.9455e-05,  elapsed time   3\n"
     ]
    },
    {
     "name": "stdout",
     "output_type": "stream",
     "text": [
      "\n",
      "\n",
      "Component    1\n",
      "Update B    [ 1. 40.]   ---->     [ 0.999824 39.799942]\n",
      "Estimated frequency =  39.799942\n",
      "Component    2\n",
      "Update B    [ 1. 40.]   ---->     [ 1.0008144 39.972046 ]\n",
      "Estimated frequency =  39.972046\n"
     ]
    }
   ],
   "source": [
    "# update variables\n",
    "for idx_run in range(1, FLAGS['num_run'].value +1):\n",
    "    logging.info('Begin to solve %s with run %d' % (problem_name, idx_run))\n",
    "    for i in range(1):\n",
    "        trainer.update_phase()\n",
    "        trainer.update_shape()"
   ]
  },
  {
   "cell_type": "code",
   "execution_count": 4,
   "id": "25a9b5a7",
   "metadata": {},
   "outputs": [
    {
     "data": {
      "text/plain": [
       "[<matplotlib.lines.Line2D at 0x7f5e98375dd8>]"
      ]
     },
     "execution_count": 4,
     "metadata": {},
     "output_type": "execute_result"
    },
    {
     "data": {
      "image/png": "[encoded data removed]",
      "text/plain": [
       "<Figure size 432x288 with 1 Axes>"
      ]
     },
     "metadata": {
      "needs_background": "light"
     },
     "output_type": "display_data"
    }
   ],
   "source": [
    "pattern = trainer.u\n",
    "component = trainer.modes\n",
    "phase = trainer.phase\n",
    "amp = trainer.amp\n",
    "plt.plot(np.squeeze(np.asarray(pattern[1,:])),'-*')"
   ]
  },
  {
   "cell_type": "code",
   "execution_count": 5,
   "id": "992384bd",
   "metadata": {},
   "outputs": [
    {
     "data": {
      "text/plain": [
       "[<matplotlib.lines.Line2D at 0x7f5e980a4240>]"
      ]
     },
     "execution_count": 5,
     "metadata": {},
     "output_type": "execute_result"
    },
    {
     "data": {
      "image/png": "[encoded data removed]",
      "text/plain": [
       "<Figure size 432x288 with 1 Axes>"
      ]
     },
     "metadata": {
      "needs_background": "light"
     },
     "output_type": "display_data"
    }
   ],
   "source": [
    "plt.plot(np.squeeze(np.asarray(component[1,:])),'-*')"
   ]
  },
  {
   "cell_type": "code",
   "execution_count": null,
   "id": "e14507fb",
   "metadata": {},
   "outputs": [],
   "source": []
  }
 ],
 "metadata": {
  "kernelspec": {
   "display_name": "conda_tensorflow_p36",
   "language": "python",
   "name": "conda_tensorflow_p36"
  },
  "language_info": {
   "codemirror_mode": {
    "name": "ipython",
    "version": 3
   },
   "file_extension": ".py",
   "mimetype": "text/x-python",
   "name": "python",
   "nbconvert_exporter": "python",
   "pygments_lexer": "ipython3",
   "version": "3.6.13"
  }
 },
 "nbformat": 4,
 "nbformat_minor": 5
}
